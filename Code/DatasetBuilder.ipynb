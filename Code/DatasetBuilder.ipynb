{
 "cells": [
  {
   "cell_type": "code",
   "execution_count": 1,
   "metadata": {
    "collapsed": false
   },
   "outputs": [],
   "source": [
    "import cv2\n",
    "import numpy as np\n",
    "from random import randint\n",
    "import os\n",
    "import glob\n",
    "import scipy\n",
    "\n",
    "import matplotlib.image as mpimg\n",
    "from skimage import color, io\n",
    "\n",
    "import matplotlib\n",
    "import matplotlib.pyplot as plt\n",
    "import skimage.io as io\n",
    "\n"
   ]
  },
  {
   "cell_type": "code",
   "execution_count": 2,
   "metadata": {
    "collapsed": false
   },
   "outputs": [],
   "source": [
    "def get_vid_files(path, ext):\n",
    "    #\"*.mp4\"\n",
    "    #\"..\\Data\\\"\n",
    "    return glob.glob(os.path.join(path, ext)) \n"
   ]
  },
  {
   "cell_type": "code",
   "execution_count": 3,
   "metadata": {
    "collapsed": true
   },
   "outputs": [],
   "source": [
    "# Concatenate an image and its groundtruth\n",
    "def concatenate_images(img, gray_img):\n",
    "    nChannels = len(gray_img.shape)\n",
    "    w = gray_img.shape[0]\n",
    "    h = gray_img.shape[1]\n",
    "    if nChannels == 3:\n",
    "        cimg = np.concatenate((img, gray_img), axis=1)\n",
    "    else:\n",
    "        gt_img_3c = np.zeros((w, h, 3))\n",
    "        gt_img_3c[:, :, 0] = gray_img\n",
    "        gt_img_3c[:, :, 1] = gray_img\n",
    "        gt_img_3c[:, :, 2] = gray_img\n",
    "        \n",
    "        cimg = np.concatenate((img, gt_img_3c), axis=1)\n",
    "    return cimg"
   ]
  },
  {
   "cell_type": "code",
   "execution_count": 6,
   "metadata": {
    "collapsed": false
   },
   "outputs": [],
   "source": [
    "def get_frames(file_path, write_path):\n",
    "\n",
    "    name = file_path[8:-4]\n",
    "    vidcap = cv2.VideoCapture(file_path)\n",
    "\n",
    "    success, image = vidcap.read()\n",
    "\n",
    "    count = 0\n",
    "    write_count = 0\n",
    "    \n",
    "    write_path = write_path + name + \"\\\\\"\n",
    "\n",
    "    if not os.path.isdir(write_path):\n",
    "        os.mkdir(write_path)\n",
    "\n",
    "    while success:\n",
    "        success,image = vidcap.read()\n",
    "\n",
    "        if success==False:\n",
    "            break;\n",
    "\n",
    "        if (randint(0, 200)) == 1: \n",
    "            \n",
    "            image = cv2.resize(image, (640, 360))\n",
    "            #gray = cv2.cvtColor(image, cv2.COLOR_BGR2GRAY)\n",
    "            #(thresh, im_bw) = cv2.threshold(gray, 128, 255, cv2.THRESH_BINARY | cv2.THRESH_OTSU)\n",
    "           \n",
    "            #print(gray.shape)\n",
    "            #np.concatenate((small, gray), axis=0)\n",
    "            #image = concatenate_images(image, gray)\n",
    "            \n",
    "            #+ \"C_\"\n",
    "            cv2.imwrite(write_path + name + \"%d.jpg\" % write_count, image) \n",
    "            #cv2.imwrite(write_path + \"G_\" + name + \"%d.jpg\" % write_count, gray)\n",
    "            \n",
    "            write_count += 1\n",
    "            \n",
    "            #cv2.imwrite(\"bw_frame%d.jpg\" % count, im_bw)\n",
    "\n",
    "        count += 1"
   ]
  },
  {
   "cell_type": "code",
   "execution_count": 7,
   "metadata": {
    "collapsed": false
   },
   "outputs": [],
   "source": [
    "files = get_vid_files('..\\Data', '*.mp4')\n",
    "files2 = get_vid_files('..\\Data', '*.mkv')\n",
    "\n",
    "for f in files and files2:\n",
    "    get_frames(f, '..\\Data\\Images\\\\')\n"
   ]
  },
  {
   "cell_type": "code",
   "execution_count": 3,
   "metadata": {
    "collapsed": false
   },
   "outputs": [],
   "source": [
    "def get_frames2(file_path, write_path):\n",
    "\n",
    "    name = file_path[8:-4]\n",
    "    vidcap = cv2.VideoCapture(file_path)\n",
    "\n",
    "    success, image = vidcap.read()\n",
    "    \n",
    "    count = 0\n",
    "    write_count = 0\n",
    "    \n",
    "    write_path = write_path + name + \"\\\\\"\n",
    "\n",
    "    if not os.path.isdir(write_path):\n",
    "        os.mkdir(write_path)\n",
    "        \n",
    "    while success:\n",
    "        success,image = vidcap.read()\n",
    "\n",
    "        if success==False:\n",
    "            break;\n",
    "\n",
    "        if (randint(0, 150)) == 1: \n",
    "            \n",
    "            image = cv2.resize(image, (640, 360))\n",
    "            #gray = cv2.cvtColor(image, cv2.COLOR_BGR2GRAY)\n",
    "            #(thresh, im_bw) = cv2.threshold(gray, 128, 255, cv2.THRESH_BINARY | cv2.THRESH_OTSU)\n",
    "            \n",
    "            image_hsv = color.rgb2hsv(image)\n",
    "            #print(image_hsv)\n",
    "            #image_hsv = colorsys.rgb_to_hsv(image)\n",
    "            #print(gray.shape)\n",
    "            #np.concatenate((small, gray), axis=0)\n",
    "            #image = concatenate_images(image, gray)\n",
    "            #+ \"C_\"\n",
    "            #io.imsave(write_path + name + \"%d.jpg\" % write_count, image_hsv)\n",
    "            plt.imsave(write_path + name + \"%d.jpg\" % write_count, image_hsv)\n",
    "            #cv2.imwrite(write_path + name + \"%d.jpg\" % write_count, image) \n",
    "            #cv2.imwrite(write_path + \"G_\" + name + \"%d.jpg\" % write_count, gray)\n",
    "            \n",
    "            write_count += 1\n",
    "            \n",
    "            #cv2.imwrite(\"bw_frame%d.jpg\" % count, im_bw)\n",
    "\n",
    "        count += 1\n"
   ]
  },
  {
   "cell_type": "code",
   "execution_count": 4,
   "metadata": {
    "collapsed": false
   },
   "outputs": [],
   "source": [
    "files = get_vid_files('..\\Data', '*.mp4')\n",
    "files2 = get_vid_files('..\\Data', '*.mkv')\n",
    "\n",
    "for f in files:\n",
    "    get_frames2(f , '..\\Data\\Images\\\\')\n",
    "    \n"
   ]
  },
  {
   "cell_type": "code",
   "execution_count": 5,
   "metadata": {
    "collapsed": true
   },
   "outputs": [],
   "source": [
    "for f in files2:\n",
    "    get_frames2(f , '..\\Data\\Images\\\\')"
   ]
  }
 ],
 "metadata": {
  "anaconda-cloud": {},
  "kernelspec": {
   "display_name": "Python [conda root]",
   "language": "python",
   "name": "conda-root-py"
  },
  "language_info": {
   "codemirror_mode": {
    "name": "ipython",
    "version": 3
   },
   "file_extension": ".py",
   "mimetype": "text/x-python",
   "name": "python",
   "nbconvert_exporter": "python",
   "pygments_lexer": "ipython3",
   "version": "3.5.2"
  }
 },
 "nbformat": 4,
 "nbformat_minor": 1
}
