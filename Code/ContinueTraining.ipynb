{
 "cells": [
  {
   "cell_type": "code",
   "execution_count": 1,
   "metadata": {
    "collapsed": false
   },
   "outputs": [
    {
     "name": "stdout",
     "output_type": "stream",
     "text": [
      "1.0.0\n"
     ]
    }
   ],
   "source": [
    "import tensorflow as tf\n",
    "#Vers. 1.0.0\n",
    "print(tf.__version__)\n",
    "import sys\n",
    "#Should be above 3.5\n",
    "#print (sys.version)     \n",
    "\n",
    "import cv2\n",
    "import numpy as np\n",
    "import os\n",
    "import glob\n",
    "import pickle\n",
    "\n",
    "import matplotlib.image as mpimg\n",
    "from skimage import color\n",
    "\n",
    "import random\n",
    "\n",
    "import matplotlib.pyplot as plt\n",
    "%matplotlib inline\n",
    "\n",
    "from Helpers import get_files, load_image, separate_imgs, get_next_batch_from_disk_RGB, get_next_batch_from_disk2"
   ]
  },
  {
   "cell_type": "code",
   "execution_count": 2,
   "metadata": {
    "collapsed": false
   },
   "outputs": [],
   "source": [
    "def retrain():\n",
    "    \n",
    "    model_path = \"./test1image/model.ckpt\"\n",
    "    save_dir = 'test1image'\n",
    "    \n",
    "    new_saver = tf.train.import_meta_graph(save_dir + \"/model.ckpt.meta\")\n",
    "    sess = tf.Session()\n",
    "\n",
    "    new_saver.restore(sess, save_dir + '/model.ckpt')\n",
    "    \n",
    "    # tf.get_collection() returns a list. In this example we only want the\n",
    "    # first one.\n",
    "    optimizer = tf.get_collection('optimizer')[0]\n",
    "    loss = tf.get_collection('loss')[0]\n",
    "    \n",
    "    #Training\n",
    "    for itr in range(30000):  \n",
    "        \n",
    "        image, color_images = get_next_batch_from_disk_RGB(images_list=images_list, batch_size=batch_size)\n",
    "\n",
    "        feed_dict = {\"x:0\": image, \"y:0\": color_images}\n",
    "        #print(type(feed_dict.get(\"x:0\")[0][0][0][0]))\n",
    "        sess.run(optimizer, feed_dict=feed_dict)\n",
    "        if itr % 300 == 0:\n",
    "            mse = sess.run(loss, feed_dict=feed_dict)\n",
    "            print(\"Step: %d, MSE: %g\" % (itr, mse))\n",
    "\n",
    "    new_saver.save(sess, model_path)\n"
   ]
  },
  {
   "cell_type": "markdown",
   "metadata": {},
   "source": [
    "# Continue training the model"
   ]
  },
  {
   "cell_type": "code",
   "execution_count": 3,
   "metadata": {
    "collapsed": false
   },
   "outputs": [
    {
     "name": "stdout",
     "output_type": "stream",
     "text": [
      "Step: 0, MSE: 436626\n",
      "Step: 300, MSE: 14897.4\n",
      "Step: 600, MSE: 25341.9\n",
      "Step: 900, MSE: 12671.4\n",
      "Step: 1200, MSE: 9105.81\n",
      "Step: 1500, MSE: 12649.6\n",
      "Step: 1800, MSE: 14382.2\n",
      "Step: 2100, MSE: 10383.2\n",
      "Step: 2400, MSE: 13045.2\n",
      "Step: 2700, MSE: 13695.4\n",
      "Step: 3000, MSE: 10313.3\n",
      "Step: 3300, MSE: 10559.8\n",
      "Step: 3600, MSE: 13323.9\n",
      "Step: 3900, MSE: 10693.6\n"
     ]
    }
   ],
   "source": [
    "images_list = get_files(\"..\\Data\\Images\\\\*\", '*.jpg')\n",
    "batch_size = 30\n",
    "\n",
    "\n",
    "#Reload and train model\n",
    "    \n",
    "retrain()\n"
   ]
  },
  {
   "cell_type": "code",
   "execution_count": 3,
   "metadata": {
    "collapsed": false
   },
   "outputs": [
    {
     "name": "stdout",
     "output_type": "stream",
     "text": [
      "Step: 0, MSE: 1845.77\n",
      "Step: 300, MSE: 1861.29\n",
      "Step: 600, MSE: 1857.24\n",
      "Step: 900, MSE: 1837.71\n",
      "Step: 1200, MSE: 1844.32\n",
      "Step: 1500, MSE: 1852.23\n",
      "Step: 1800, MSE: 1868.8\n",
      "Step: 2100, MSE: 1849.78\n",
      "Step: 2400, MSE: 1835.38\n",
      "Step: 2700, MSE: 1841.79\n",
      "Step: 3000, MSE: 1840.46\n",
      "Step: 3300, MSE: 1888.25\n",
      "Step: 3600, MSE: 1851.33\n",
      "Step: 3900, MSE: 1889.98\n",
      "Step: 4200, MSE: 1873.9\n",
      "Step: 4500, MSE: 1852.44\n",
      "Step: 4800, MSE: 1835.69\n",
      "Step: 5100, MSE: 1840.42\n",
      "Step: 5400, MSE: 1835.19\n",
      "Step: 5700, MSE: 1860.57\n",
      "Step: 6000, MSE: 1835.38\n",
      "Step: 6300, MSE: 1856.89\n",
      "Step: 6600, MSE: 1993.86\n",
      "Step: 6900, MSE: 1839.45\n",
      "Step: 7200, MSE: 1836.67\n",
      "Step: 7500, MSE: 1867.68\n",
      "Step: 7800, MSE: 1833.45\n",
      "Step: 8100, MSE: 2000.34\n",
      "Step: 8400, MSE: 1841.74\n",
      "Step: 8700, MSE: 1861.9\n",
      "Step: 9000, MSE: 1865.24\n",
      "Step: 9300, MSE: 1867.53\n",
      "Step: 9600, MSE: 1844.67\n",
      "Step: 9900, MSE: 1880.44\n",
      "Step: 10200, MSE: 1838.9\n",
      "Step: 10500, MSE: 1894.7\n",
      "Step: 10800, MSE: 1844.21\n",
      "Step: 11100, MSE: 1841.03\n",
      "Step: 11400, MSE: 1843.96\n",
      "Step: 11700, MSE: 1840.12\n",
      "Step: 12000, MSE: 1835.16\n",
      "Step: 12300, MSE: 1845.08\n",
      "Step: 12600, MSE: 1876.58\n",
      "Step: 12900, MSE: 1833.19\n",
      "Step: 13200, MSE: 1857.99\n",
      "Step: 13500, MSE: 1861.04\n",
      "Step: 13800, MSE: 1873.22\n",
      "Step: 14100, MSE: 1852.81\n",
      "Step: 14400, MSE: 1829.56\n",
      "Step: 14700, MSE: 1909.98\n",
      "Step: 15000, MSE: 1832.48\n",
      "Step: 15300, MSE: 1892.96\n",
      "Step: 15600, MSE: 1839.27\n",
      "Step: 15900, MSE: 1882.38\n",
      "Step: 16200, MSE: 1873.95\n",
      "Step: 16500, MSE: 1842.49\n",
      "Step: 16800, MSE: 1837.69\n",
      "Step: 17100, MSE: 1891.77\n",
      "Step: 17400, MSE: 1839.01\n",
      "Step: 17700, MSE: 1831.47\n",
      "Step: 18000, MSE: 1937.91\n",
      "Step: 18300, MSE: 1856.83\n",
      "Step: 18600, MSE: 1836.78\n",
      "Step: 18900, MSE: 1863.82\n",
      "Step: 19200, MSE: 1836.7\n",
      "Step: 19500, MSE: 1863.3\n",
      "Step: 19800, MSE: 1831.56\n",
      "Step: 20100, MSE: 1845.02\n",
      "Step: 20400, MSE: 1829.06\n",
      "Step: 20700, MSE: 1831.33\n",
      "Step: 21000, MSE: 1922.14\n",
      "Step: 21300, MSE: 1843.32\n",
      "Step: 21600, MSE: 1834.18\n",
      "Step: 21900, MSE: 1833.8\n",
      "Step: 22200, MSE: 1828.02\n",
      "Step: 22500, MSE: 1827.92\n",
      "Step: 22800, MSE: 1847.04\n",
      "Step: 23100, MSE: 1829.86\n",
      "Step: 23400, MSE: 1917.73\n",
      "Step: 23700, MSE: 1853.43\n",
      "Step: 24000, MSE: 1907.14\n",
      "Step: 24300, MSE: 1840.35\n",
      "Step: 24600, MSE: 1851.9\n",
      "Step: 24900, MSE: 1826.77\n",
      "Step: 25200, MSE: 1906.36\n",
      "Step: 25500, MSE: 1828.45\n",
      "Step: 25800, MSE: 1841.13\n",
      "Step: 26100, MSE: 1832.51\n",
      "Step: 26400, MSE: 1848.59\n",
      "Step: 26700, MSE: 1908.55\n",
      "Step: 27000, MSE: 1831.33\n",
      "Step: 27300, MSE: 1869.82\n",
      "Step: 27600, MSE: 1870.7\n",
      "Step: 27900, MSE: 1832.64\n",
      "Step: 28200, MSE: 1828.72\n",
      "Step: 28500, MSE: 1828.35\n",
      "Step: 28800, MSE: 1841.37\n",
      "Step: 29100, MSE: 1831.76\n",
      "Step: 29400, MSE: 1832.35\n",
      "Step: 29700, MSE: 1860.88\n"
     ]
    }
   ],
   "source": [
    "images_list = get_files(\"..\\Data\\Images\\\\*\", '*.jpg')\n",
    "batch_size = 1\n",
    "\n",
    "\n",
    "#Reload and train model\n",
    "    \n",
    "retrain()"
   ]
  },
  {
   "cell_type": "code",
   "execution_count": null,
   "metadata": {
    "collapsed": true
   },
   "outputs": [],
   "source": []
  }
 ],
 "metadata": {
  "anaconda-cloud": {},
  "kernelspec": {
   "display_name": "Python [conda root]",
   "language": "python",
   "name": "conda-root-py"
  },
  "language_info": {
   "codemirror_mode": {
    "name": "ipython",
    "version": 3
   },
   "file_extension": ".py",
   "mimetype": "text/x-python",
   "name": "python",
   "nbconvert_exporter": "python",
   "pygments_lexer": "ipython3",
   "version": "3.5.2"
  }
 },
 "nbformat": 4,
 "nbformat_minor": 1
}
